{
 "cells": [
  {
   "cell_type": "code",
   "execution_count": 2,
   "id": "546fe5ce",
   "metadata": {},
   "outputs": [],
   "source": [
    "from dotenv import load_dotenv\n",
    "load_dotenv()\n",
    "import os\n",
    "import azure.cognitiveservices.speech as speechsdk"
   ]
  },
  {
   "cell_type": "markdown",
   "id": "e0a5f887",
   "metadata": {},
   "source": [
    "# Speech Recognition\n",
    "This notebook aims to test how speech recognition can be achieved using Azure Speech Services. [It uses code from this article.](https://learn.microsoft.com/en-us/azure/ai-services/speech-service/how-to-recognize-speech?pivots=programming-language-python)"
   ]
  },
  {
   "cell_type": "code",
   "execution_count": null,
   "id": "0cf287d4",
   "metadata": {},
   "outputs": [],
   "source": [
    "def check_result_from_azure(speech_recognition_result):\n",
    "    \"\"\"\n",
    "    Having received a result from Azure, check whether it worked or not\n",
    "    \"\"\"\n",
    "    if speech_recognition_result.reason == speechsdk.ResultReason.RecognizedSpeech:\n",
    "        return speech_recognition_result.text, 200\n",
    "   \n",
    "    elif speech_recognition_result.reason == speechsdk.ResultReason.NoMatch:\n",
    "        e = \"No speech could be recognized: {}.\".format(speech_recognition_result.no_match_details)\n",
    "        return e, 400\n",
    "   \n",
    "    elif speech_recognition_result.reason == speechsdk.ResultReason.Canceled:\n",
    "        cancellation_details = speech_recognition_result.cancellation_details\n",
    "        e = \"Speech Recognition canceled: {}.\".format(cancellation_details.reason)\n",
    "\n",
    "        if cancellation_details.reason == speechsdk.CancellationReason.Error:\n",
    "            extra_details = f\" Error details: {cancellation_details.error_details}. Did you set the speech resource key and endpoint values?\"\n",
    "        else:\n",
    "            extra_details = \"\"\n",
    "\n",
    "        return e + extra_details, 400\n",
    "\n",
    "def transcribe_file(filename: str):\n",
    "    speech_key = os.getenv(\"SPEECH_KEY\")\n",
    "    service_region = \"uksouth\"\n",
    "\n",
    "    speech_config = speechsdk.SpeechConfig(subscription=speech_key, region=service_region)\n",
    "    audio_config = speechsdk.audio.AudioConfig(filename=filename)\n",
    "    speech_recognizer = speechsdk.SpeechRecognizer(speech_config=speech_config, audio_config=audio_config)  \n",
    "    speech_recognition_result = speech_recognizer.recognize_once_async().get()\n",
    "\n",
    "    return check_result_from_azure(speech_recognition_result)"
   ]
  },
  {
   "cell_type": "code",
   "execution_count": 10,
   "id": "90d053e2",
   "metadata": {},
   "outputs": [
    {
     "name": "stdout",
     "output_type": "stream",
     "text": [
      "The human sacrificed himself to save the Pokémon. I pitted them against each other, but not until they set aside their differences did I see the true power they all shared deep inside.\n"
     ]
    }
   ],
   "source": [
    "output, status_code = transcribe_file(r\"C:\\Users\\Beth\\Documents\\Bupa\\Real_Time_STT\\audio\\mewtwo.wav\")\n",
    "if status_code == 200:\n",
    "    print(output)"
   ]
  }
 ],
 "metadata": {
  "kernelspec": {
   "display_name": "flask_venv",
   "language": "python",
   "name": "python3"
  },
  "language_info": {
   "codemirror_mode": {
    "name": "ipython",
    "version": 3
   },
   "file_extension": ".py",
   "mimetype": "text/x-python",
   "name": "python",
   "nbconvert_exporter": "python",
   "pygments_lexer": "ipython3",
   "version": "3.13.5"
  }
 },
 "nbformat": 4,
 "nbformat_minor": 5
}
