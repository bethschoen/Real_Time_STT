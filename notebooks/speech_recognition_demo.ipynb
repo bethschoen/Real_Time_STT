{
 "cells": [
  {
   "cell_type": "code",
   "execution_count": 13,
   "id": "546fe5ce",
   "metadata": {},
   "outputs": [
    {
     "name": "stdout",
     "output_type": "stream",
     "text": [
      "RECOGNIZED: SpeechRecognitionEventArgs(session_id=bd6290c5730a48eeb8805452242b3613, result=SpeechRecognitionResult(result_id=573fe51bb27047e48c142213fc2bd6f7, text=\"I see now that the circumstances of 1's birth are irrelevant. It is what you do with the gift of life that determines who you are.\", reason=ResultReason.RecognizedSpeech))\n",
      "CANCELED SpeechRecognitionCanceledEventArgs(session_id=bd6290c5730a48eeb8805452242b3613, result=SpeechRecognitionResult(result_id=e729158cdf0a484099929cdbd337a2f0, text=\"\", reason=ResultReason.Canceled))\n",
      "CLOSING on SpeechRecognitionCanceledEventArgs(session_id=bd6290c5730a48eeb8805452242b3613, result=SpeechRecognitionResult(result_id=e729158cdf0a484099929cdbd337a2f0, text=\"\", reason=ResultReason.Canceled))\n",
      "SESSION STOPPED SessionEventArgs(session_id=bd6290c5730a48eeb8805452242b3613)\n",
      "CLOSING on SessionEventArgs(session_id=bd6290c5730a48eeb8805452242b3613)\n"
     ]
    }
   ],
   "source": [
    "from dotenv import load_dotenv\n",
    "load_dotenv()\n",
    "import os\n",
    "import azure.cognitiveservices.speech as speechsdk\n",
    "import time"
   ]
  },
  {
   "cell_type": "markdown",
   "id": "e0a5f887",
   "metadata": {},
   "source": [
    "# Speech Recognition\n",
    "This notebook aims to test how speech recognition can be achieved using Azure Speech Services. [It uses code from this article.](https://learn.microsoft.com/en-us/azure/ai-services/speech-service/how-to-recognize-speech?pivots=programming-language-python)"
   ]
  },
  {
   "cell_type": "code",
   "execution_count": null,
   "id": "03891791",
   "metadata": {},
   "outputs": [],
   "source": []
  },
  {
   "cell_type": "code",
   "execution_count": 5,
   "id": "0cf287d4",
   "metadata": {},
   "outputs": [],
   "source": [
    "def check_result_from_azure(speech_recognition_result):\n",
    "    \"\"\"\n",
    "    Having received a result from Azure, check whether it worked or not\n",
    "    \"\"\"\n",
    "    if speech_recognition_result.reason == speechsdk.ResultReason.RecognizedSpeech:\n",
    "        return speech_recognition_result.text, 200\n",
    "   \n",
    "    elif speech_recognition_result.reason == speechsdk.ResultReason.NoMatch:\n",
    "        e = \"No speech could be recognized: {}.\".format(speech_recognition_result.no_match_details)\n",
    "        return e, 400\n",
    "   \n",
    "    elif speech_recognition_result.reason == speechsdk.ResultReason.Canceled:\n",
    "        cancellation_details = speech_recognition_result.cancellation_details\n",
    "        e = \"Speech Recognition canceled: {}.\".format(cancellation_details.reason)\n",
    "\n",
    "        if cancellation_details.reason == speechsdk.CancellationReason.Error:\n",
    "            extra_details = f\" Error details: {cancellation_details.error_details}. Did you set the speech resource key and endpoint values?\"\n",
    "        else:\n",
    "            extra_details = \"\"\n",
    "\n",
    "        return e + extra_details, 400\n",
    "\n",
    "def transcribe_file(filename: str, language: str=\"en-GB\"):\n",
    "    speech_key = os.getenv(\"SPEECH_KEY\")\n",
    "    service_region = \"uksouth\"\n",
    "\n",
    "    speech_config = speechsdk.SpeechConfig(subscription=speech_key, region=service_region)\n",
    "    audio_config = speechsdk.audio.AudioConfig(filename=filename)\n",
    "    speech_recognizer = speechsdk.SpeechRecognizer(speech_config=speech_config, audio_config=audio_config) \n",
    "    speech_config.speech_recognition_language=language \n",
    "    print(speech_config.speech_recognition_language)\n",
    "    speech_recognition_result = speech_recognizer.recognize_once_async().get()\n",
    "\n",
    "    return check_result_from_azure(speech_recognition_result)"
   ]
  },
  {
   "cell_type": "code",
   "execution_count": 6,
   "id": "90d053e2",
   "metadata": {},
   "outputs": [
    {
     "name": "stdout",
     "output_type": "stream",
     "text": [
      "en-GB\n",
      "The human sacrificed himself to save the Pokémon. I pitted them against each other, but not until they set aside their differences did I see the true power they all shared deep inside.\n"
     ]
    }
   ],
   "source": [
    "output, status_code = transcribe_file(r\"C:\\Users\\Beth\\Documents\\Bupa\\Real_Time_STT\\audio\\mewtwo.wav\")\n",
    "if status_code == 200:\n",
    "    print(output)"
   ]
  },
  {
   "cell_type": "code",
   "execution_count": 7,
   "id": "ae813c56",
   "metadata": {},
   "outputs": [
    {
     "name": "stdout",
     "output_type": "stream",
     "text": [
      "de-DE\n",
      "And you guested. I want to feel a flush linger console goodbye. Garnish them.\n"
     ]
    }
   ],
   "source": [
    "output, status_code = transcribe_file(r\"C:\\Users\\Beth\\Documents\\Bupa\\Real_Time_STT\\audio\\deutsches_audio.wav\", \"de-DE\")\n",
    "if status_code == 200:\n",
    "    print(output)"
   ]
  },
  {
   "cell_type": "markdown",
   "id": "331b5409",
   "metadata": {},
   "source": [
    "The issue with the above code is that it only lasts for a short period of time: \"The previous examples use single-shot recognition, which recognizes a single utterance. The end of a single utterance is determined by listening for silence at the end or until a maximum of 15 seconds of audio is processed\". This is for both files and mic recordings. Therefore, I looked into the continuous transcription options:"
   ]
  },
  {
   "cell_type": "code",
   "execution_count": 45,
   "id": "c6305e5b",
   "metadata": {},
   "outputs": [],
   "source": [
    "def speech_recognize_continuous_from_file(filename: str, language:str=\"en-GB\"):\n",
    "    \"\"\"\n",
    "    performs continuous speech recognition with input from an audio file\n",
    "    \"\"\"\n",
    "    speech_config = speechsdk.SpeechConfig(subscription=os.getenv(\"SPEECH_KEY\"), endpoint=\"https://uksouth.api.cognitive.microsoft.com\")\n",
    "    speech_config.speech_recognition_language=language \n",
    "    audio_config = speechsdk.audio.AudioConfig(filename=filename)\n",
    "    speech_recognizer = speechsdk.SpeechRecognizer(speech_config=speech_config, audio_config=audio_config)\n",
    "\n",
    "    done = False\n",
    "\n",
    "    def stop_cb(evt: speechsdk.SessionEventArgs):\n",
    "        \"\"\"callback that signals to stop continuous recognition upon receiving an event `evt`\"\"\"\n",
    "        print(\"CLOSING on {}\".format(evt))\n",
    "        nonlocal done\n",
    "        done = True\n",
    "\n",
    "    final_transcription = []\n",
    "\n",
    "    def text_recognized(evt):\n",
    "        final_transcription.append(evt.result.text)\n",
    "\n",
    "    # collect recognized text\n",
    "    speech_recognizer.recognized.connect(text_recognized)\n",
    "\n",
    "    # Connect callbacks to the events fired by the speech recognizer\n",
    "    speech_recognizer.session_started.connect(lambda evt: print(\"SESSION STARTED: {}\".format(evt)))\n",
    "    speech_recognizer.session_stopped.connect(lambda evt: print(\"SESSION STOPPED {}\".format(evt)))\n",
    "    speech_recognizer.canceled.connect(lambda evt: print(\"CANCELED {}\".format(evt)))\n",
    "    # Stop continuous recognition on either session stopped or canceled events\n",
    "    speech_recognizer.session_stopped.connect(stop_cb)\n",
    "    speech_recognizer.canceled.connect(stop_cb)\n",
    "\n",
    "    # Start continuous speech recognition\n",
    "    speech_recognizer.start_continuous_recognition()\n",
    "    while not done:\n",
    "        time.sleep(0.5)\n",
    "\n",
    "    speech_recognizer.stop_continuous_recognition()    \n",
    "\n",
    "    return \" \".join(final_transcription)\n",
    "\n",
    "\n",
    "def speech_recognize_continuous_async_from_microphone(language: str=\"en-GB\"):\n",
    "    \"\"\"performs continuous speech recognition asynchronously with input from microphone\"\"\"\n",
    "    speech_config = speechsdk.SpeechConfig(subscription=os.getenv(\"SPEECH_KEY\"), endpoint=\"https://uksouth.api.cognitive.microsoft.com\")\n",
    "    speech_config.speech_recognition_language=language \n",
    "    speech_recognizer = speechsdk.SpeechRecognizer(speech_config=speech_config)\n",
    "\n",
    "    done = False\n",
    "\n",
    "    def recognizing_cb(evt: speechsdk.SpeechRecognitionEventArgs):\n",
    "        print(\"RECOGNIZING: {}\".format(evt))\n",
    "\n",
    "    final_transcription = []\n",
    "    def text_recognized(evt):\n",
    "        final_transcription.append(evt.result.text)\n",
    "\n",
    "    def recognized_cb(evt: speechsdk.SpeechRecognitionEventArgs):\n",
    "        print(\"RECOGNIZED: {}\".format(evt))\n",
    "        text_recognized(evt)       \n",
    "    \n",
    "    def stop_cb(evt: speechsdk.SessionEventArgs):\n",
    "        \"\"\"callback that signals to stop continuous recognition\"\"\"\n",
    "        print(\"CLOSING on {}\".format(evt))\n",
    "        nonlocal done\n",
    "        done = True\n",
    "\n",
    "    # Connect callbacks to the events fired by the speech recognizer\n",
    "    #speech_recognizer.recognizing.connect(recognizing_cb)\n",
    "    speech_recognizer.recognized.connect(recognized_cb)\n",
    "    speech_recognizer.session_stopped.connect(stop_cb)\n",
    "    speech_recognizer.canceled.connect(stop_cb)\n",
    "\n",
    "    # Perform recognition. `start_continuous_recognition_async asynchronously initiates continuous recognition operation,\n",
    "    # Other tasks can be performed on this thread while recognition starts...\n",
    "    # wait on result_future.get() to know when initialization is done.\n",
    "    # Call stop_continuous_recognition_async() to stop recognition.\n",
    "    result_future = speech_recognizer.start_continuous_recognition_async()\n",
    "\n",
    "    result_future.get()  # wait for voidfuture, so we know engine initialization is done.\n",
    "    print(\"Continuous Recognition is now running, say something.\")\n",
    "\n",
    "    while not done:\n",
    "        # No real sample parallel work to do on this thread, so just wait for user to type stop.\n",
    "        # Can't exit function or speech_recognizer will go out of scope and be destroyed while running.\n",
    "        print('type \"stop\" then enter when done')\n",
    "        stop = input()\n",
    "        if stop.lower() == \"stop\":\n",
    "            print(\"Stopping async recognition.\")\n",
    "            speech_recognizer.stop_continuous_recognition_async()\n",
    "            break\n",
    "\n",
    "    print(\"recognition stopped, main thread can exit now.\")\n",
    "\n",
    "    return \" \".join(final_transcription)"
   ]
  },
  {
   "cell_type": "code",
   "execution_count": 42,
   "id": "4f92e8d9",
   "metadata": {},
   "outputs": [
    {
     "name": "stdout",
     "output_type": "stream",
     "text": [
      "SESSION STARTED: SessionEventArgs(session_id=30a47fa795e041ffbe8f6e41de4a718d)\n",
      "CANCELED SpeechRecognitionCanceledEventArgs(session_id=30a47fa795e041ffbe8f6e41de4a718d, result=SpeechRecognitionResult(result_id=7e8393923de146958041d5b72da1a3e6, text=\"\", reason=ResultReason.Canceled))\n",
      "CLOSING on SpeechRecognitionCanceledEventArgs(session_id=30a47fa795e041ffbe8f6e41de4a718d, result=SpeechRecognitionResult(result_id=7e8393923de146958041d5b72da1a3e6, text=\"\", reason=ResultReason.Canceled))\n",
      "SESSION STOPPED SessionEventArgs(session_id=30a47fa795e041ffbe8f6e41de4a718d)\n",
      "CLOSING on SessionEventArgs(session_id=30a47fa795e041ffbe8f6e41de4a718d)\n"
     ]
    },
    {
     "data": {
      "text/plain": [
       "\"According to all known laws of aviation, there is no way a bee should be able to fly. Its wings are too small to get its fat little body off the ground. The bee, of course, flies anyway. Because bees don't care what humans think is impossible. Yellow. Black. Yellow. Black. Yellow, Black. Yellow, Black. Oh, black and yellow. Let's shake it up a little. Barry. Breakfast is ready. Coming. Hang on a second. Hello, Barry. Adam, Can you believe this is happening? I can't. I'll pick you up. Looking sharp. As your father pay good money for those. Sorry, I'm excited. Here's their graduate. We're very proud of you, son. A perfect report card. All bees. Very proud of thing going here. You got a lint on your fuzz. Oh, that's me. Wave to us. Will be in row 118,000. Bye, Barry. I told you, stop flying in the house. Hey, Adam. Hey, Barry. Is that fuzz? Joe? A little special day graduation.\""
      ]
     },
     "execution_count": 42,
     "metadata": {},
     "output_type": "execute_result"
    }
   ],
   "source": [
    "transcription = speech_recognize_continuous_from_file(r\"C:\\Users\\Beth\\Documents\\Bupa\\Real_Time_STT\\audio\\converted.wav\")\n",
    "\n",
    "transcription"
   ]
  },
  {
   "cell_type": "code",
   "execution_count": 43,
   "id": "c4a2096c",
   "metadata": {},
   "outputs": [
    {
     "name": "stdout",
     "output_type": "stream",
     "text": [
      "SESSION STARTED: SessionEventArgs(session_id=ed636ce972c7406181317e10ad370b4e)\n",
      "CANCELED SpeechRecognitionCanceledEventArgs(session_id=ed636ce972c7406181317e10ad370b4e, result=SpeechRecognitionResult(result_id=4e25102ff37e47648f0038de83e59d66, text=\"\", reason=ResultReason.Canceled))\n",
      "CLOSING on SpeechRecognitionCanceledEventArgs(session_id=ed636ce972c7406181317e10ad370b4e, result=SpeechRecognitionResult(result_id=4e25102ff37e47648f0038de83e59d66, text=\"\", reason=ResultReason.Canceled))\n",
      "SESSION STOPPED SessionEventArgs(session_id=ed636ce972c7406181317e10ad370b4e)\n",
      "CLOSING on SessionEventArgs(session_id=ed636ce972c7406181317e10ad370b4e)\n"
     ]
    },
    {
     "data": {
      "text/plain": [
       "'Manche Gäste, darunter viele Flüchtlinge, können so gut wie gar nicht schwimmen. Auch die. Auch diesen indischen Studenten fällt es schwer, den Kopf über Wasser zu halten. Dem Rettungsschwimmer ist das nicht geheuer, er greift ein, sie sollen im Nichtschwimmerbereich bleiben, während. Der Welle sind fast 23 Stunden davon sind runtergegangen und deswegen nur hab ich sag ich mal so verwandt, dass sie sich bis zur Linie eigentlich halten müssen und ja nicht mehr in die Tiefe reinkommen. Viele Nationalitäten, viele sprachen, das macht die Verständigung. Recht. Eben wird er gerade untergegangen. Beinahe, oder? Ja, ja, wie war das? Das war sehr schön.'"
      ]
     },
     "execution_count": 43,
     "metadata": {},
     "output_type": "execute_result"
    }
   ],
   "source": [
    "speech_recognize_continuous_from_file(r\"C:\\Users\\Beth\\Documents\\Bupa\\Real_Time_STT\\audio\\deutsches_audio.wav\", \"de-DE\")"
   ]
  },
  {
   "cell_type": "code",
   "execution_count": 46,
   "id": "84f3f11f",
   "metadata": {},
   "outputs": [
    {
     "name": "stdout",
     "output_type": "stream",
     "text": [
      "Continuous Recognition is now running, say something.\n",
      "type \"stop\" then enter when done\n",
      "RECOGNIZED: SpeechRecognitionEventArgs(session_id=ba7f3c07d987495a875763cd5ed77538, result=SpeechRecognitionResult(result_id=7c02db30fb3048b2ba7a77a0a7cb57a2, text=\"Hello, I hope you can hear me. I don't really understand the stopping command. I got it wrong last time, so we were recording for a while and I broke everything, so I'm sorry about that. Maybe this time I might get it right, but I have to keep talking for longer than what was it? 15 seconds? 30 seconds? That's a long time. I'll get the B movie script up again. Where is it? Am I able to find it while I'm talking? I probably can. No, I don't have it open anymore by the looks of it. Oh, we didn't need it. It's fine. I think it's already been 20.\", reason=ResultReason.RecognizedSpeech))\n",
      "Stopping async recognition.\n",
      "recognition stopped, main thread can exit now.\n"
     ]
    },
    {
     "data": {
      "text/plain": [
       "\"Hello, I hope you can hear me. I don't really understand the stopping command. I got it wrong last time, so we were recording for a while and I broke everything, so I'm sorry about that. Maybe this time I might get it right, but I have to keep talking for longer than what was it? 15 seconds? 30 seconds? That's a long time. I'll get the B movie script up again. Where is it? Am I able to find it while I'm talking? I probably can. No, I don't have it open anymore by the looks of it. Oh, we didn't need it. It's fine. I think it's already been 20.\""
      ]
     },
     "execution_count": 46,
     "metadata": {},
     "output_type": "execute_result"
    }
   ],
   "source": [
    "speech_recognize_continuous_async_from_microphone()"
   ]
  },
  {
   "cell_type": "code",
   "execution_count": 49,
   "id": "95a25d74",
   "metadata": {},
   "outputs": [
    {
     "name": "stdout",
     "output_type": "stream",
     "text": [
      "Continuous Recognition is now running, say something.\n",
      "type \"stop\" then enter when done\n",
      "Stopping async recognition.\n",
      "recognition stopped, main thread can exit now.\n"
     ]
    },
    {
     "data": {
      "text/plain": [
       "''"
      ]
     },
     "execution_count": 49,
     "metadata": {},
     "output_type": "execute_result"
    }
   ],
   "source": [
    "speech_recognize_continuous_async_from_microphone(\"de-DE\")"
   ]
  },
  {
   "cell_type": "code",
   "execution_count": null,
   "id": "6910a9b4",
   "metadata": {},
   "outputs": [],
   "source": []
  }
 ],
 "metadata": {
  "kernelspec": {
   "display_name": "flask_venv",
   "language": "python",
   "name": "python3"
  },
  "language_info": {
   "codemirror_mode": {
    "name": "ipython",
    "version": 3
   },
   "file_extension": ".py",
   "mimetype": "text/x-python",
   "name": "python",
   "nbconvert_exporter": "python",
   "pygments_lexer": "ipython3",
   "version": "3.13.5"
  }
 },
 "nbformat": 4,
 "nbformat_minor": 5
}
