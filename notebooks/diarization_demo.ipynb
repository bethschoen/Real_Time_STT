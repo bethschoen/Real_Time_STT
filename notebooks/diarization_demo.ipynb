{
 "cells": [
  {
   "cell_type": "code",
   "execution_count": 2,
   "id": "1fa8ba76",
   "metadata": {},
   "outputs": [
    {
     "data": {
      "text/plain": [
       "True"
      ]
     },
     "execution_count": 2,
     "metadata": {},
     "output_type": "execute_result"
    }
   ],
   "source": [
    "import os\n",
    "import time\n",
    "import azure.cognitiveservices.speech as speechsdk\n",
    "from dotenv import load_dotenv\n",
    "load_dotenv()"
   ]
  },
  {
   "cell_type": "code",
   "execution_count": 14,
   "id": "dcb6c6cb",
   "metadata": {},
   "outputs": [],
   "source": [
    "def recognize_from_file(filename: str, language: str=\"en-GB\"):\n",
    "    speech_config = speechsdk.SpeechConfig(subscription=os.getenv('SPEECH_KEY'), endpoint=\"https://uksouth.api.cognitive.microsoft.com\")\n",
    "    speech_config.speech_recognition_language=language\n",
    "    speech_config.set_property(property_id=speechsdk.PropertyId.SpeechServiceResponse_DiarizeIntermediateResults, value='true')\n",
    "\n",
    "    audio_config = speechsdk.audio.AudioConfig(filename=filename)\n",
    "    conversation_transcriber = speechsdk.transcription.ConversationTranscriber(speech_config=speech_config, audio_config=audio_config)\n",
    "\n",
    "    transcribing_stop = False\n",
    "\n",
    "    def conversation_transcriber_session_started_cb(evt: speechsdk.SessionEventArgs):\n",
    "        print('SessionStarted event')\n",
    "\n",
    "    def conversation_transcriber_session_stopped_cb(evt: speechsdk.SessionEventArgs):\n",
    "        print('SessionStopped event')\n",
    "        \n",
    "    def conversation_transcriber_recognition_canceled_cb(evt: speechsdk.SessionEventArgs):\n",
    "        print('Canceled event')\n",
    "\n",
    "    final_transcription = []\n",
    "\n",
    "    def conversation_transcriber_transcribed_cb(evt: speechsdk.SpeechRecognitionEventArgs):\n",
    "        print('\\nTRANSCRIBED:')\n",
    "        if evt.result.reason == speechsdk.ResultReason.RecognizedSpeech:\n",
    "            print('\\tText={}'.format(evt.result.text))\n",
    "            print('\\tSpeaker ID={}\\n'.format(evt.result.speaker_id))\n",
    "            #final_transcription.append({\"text\":evt.result.text, \"speaker_id\":evt.result.speaker_id})\n",
    "            final_transcription.append(f\"{evt.result.speaker_id}: {evt.result.text}\")\n",
    "        elif evt.result.reason == speechsdk.ResultReason.NoMatch:\n",
    "            print('\\tNOMATCH: Speech could not be TRANSCRIBED: {}'.format(evt.result.no_match_details))\n",
    "\n",
    "    def stop_cb(evt: speechsdk.SessionEventArgs):\n",
    "        #\"\"\"callback that signals to stop continuous recognition upon receiving an event `evt`\"\"\"\n",
    "        print('CLOSING on {}'.format(evt))\n",
    "        nonlocal transcribing_stop\n",
    "        transcribing_stop = True\n",
    "\n",
    "    # Connect callbacks to the events fired by the conversation transcriber\n",
    "    conversation_transcriber.transcribed.connect(conversation_transcriber_transcribed_cb)\n",
    "    conversation_transcriber.session_started.connect(conversation_transcriber_session_started_cb)\n",
    "    conversation_transcriber.session_stopped.connect(conversation_transcriber_session_stopped_cb)\n",
    "    conversation_transcriber.canceled.connect(conversation_transcriber_recognition_canceled_cb)\n",
    "    # stop transcribing on either session stopped or canceled events\n",
    "    conversation_transcriber.session_stopped.connect(stop_cb)\n",
    "    conversation_transcriber.canceled.connect(stop_cb)\n",
    "\n",
    "    conversation_transcriber.start_transcribing_async()\n",
    "\n",
    "    # Waits for completion.\n",
    "    while not transcribing_stop:\n",
    "        time.sleep(.5)\n",
    "\n",
    "    conversation_transcriber.stop_transcribing_async()\n",
    "\n",
    "    return \"\\n\".join(final_transcription)"
   ]
  },
  {
   "cell_type": "code",
   "execution_count": 15,
   "id": "53057905",
   "metadata": {},
   "outputs": [
    {
     "name": "stdout",
     "output_type": "stream",
     "text": [
      "SessionStarted event\n",
      "\n",
      "TRANSCRIBED:\n",
      "\tText=Hi can I help you?\n",
      "\tSpeaker ID=Guest-1\n",
      "\n",
      "\n",
      "TRANSCRIBED:\n",
      "\tText=Yeah, can I have a dozen red roses, please?\n",
      "\tSpeaker ID=Guest-2\n",
      "\n",
      "\n",
      "TRANSCRIBED:\n",
      "\tText=Oh, hi, Johnny. I didn't know it was you.\n",
      "\tSpeaker ID=Guest-1\n",
      "\n",
      "\n",
      "TRANSCRIBED:\n",
      "\tText=Here you go.\n",
      "\tSpeaker ID=Guest-1\n",
      "\n",
      "\n",
      "TRANSCRIBED:\n",
      "\tText=That's me.\n",
      "\tSpeaker ID=Guest-2\n",
      "\n",
      "\n",
      "TRANSCRIBED:\n",
      "\tText=How much?\n",
      "\tSpeaker ID=Guest-2\n",
      "\n",
      "\n",
      "TRANSCRIBED:\n",
      "\tText=Is it? It'll be $18.\n",
      "\tSpeaker ID=Guest-1\n",
      "\n",
      "\n",
      "TRANSCRIBED:\n",
      "\tText=Keep the change.\n",
      "\tSpeaker ID=Guest-2\n",
      "\n",
      "\n",
      "TRANSCRIBED:\n",
      "\tText=Hi, doggie. You're my favorite customer. Thanks a lot. Bye. Bye. Bye.\n",
      "\tSpeaker ID=Guest-1\n",
      "\n",
      "Canceled event\n",
      "CLOSING on ConversationTranscriptionCanceledEventArgs(session_id=4c4510740e4a4c289aeab7449edf88f5, result=ConversationTranscriptionResult(result_id=ae7db9c158ba48dd9eacc2ffeeaada31, speaker_id=, text=, reason=ResultReason.Canceled))\n",
      "SessionStopped event\n",
      "CLOSING on SessionEventArgs(session_id=4c4510740e4a4c289aeab7449edf88f5)\n"
     ]
    }
   ],
   "source": [
    "try:\n",
    "    result = recognize_from_file(r\"C:\\Users\\Beth\\Documents\\Bupa\\Real_Time_STT\\audio\\the_room.wav\", language=\"en-US\")\n",
    "except Exception as err:\n",
    "    print(\"Encountered exception. {}\".format(err))"
   ]
  },
  {
   "cell_type": "code",
   "execution_count": 16,
   "id": "e35a6d66",
   "metadata": {},
   "outputs": [
    {
     "name": "stdout",
     "output_type": "stream",
     "text": [
      "Guest-1: Hi can I help you?\n",
      "Guest-2: Yeah, can I have a dozen red roses, please?\n",
      "Guest-1: Oh, hi, Johnny. I didn't know it was you.\n",
      "Guest-1: Here you go.\n",
      "Guest-2: That's me.\n",
      "Guest-2: How much?\n",
      "Guest-1: Is it? It'll be $18.\n",
      "Guest-2: Keep the change.\n",
      "Guest-1: Hi, doggie. You're my favorite customer. Thanks a lot. Bye. Bye. Bye.\n"
     ]
    }
   ],
   "source": [
    "print(result)"
   ]
  },
  {
   "cell_type": "code",
   "execution_count": 21,
   "id": "16ec693b",
   "metadata": {},
   "outputs": [
    {
     "name": "stdout",
     "output_type": "stream",
     "text": [
      "SessionStarted event\n",
      "\n",
      "TRANSCRIBED:\n",
      "\tText=So, Chairman, will be it late, shall we get this meeting started? We'll.\n",
      "\tSpeaker ID=Guest-1\n",
      "\n",
      "\n",
      "TRANSCRIBED:\n",
      "\tText=Start the meeting and I want to repeat what I said at the beginning of the last meeting. This meeting has not been called according to the law. The law has been broken.\n",
      "\tSpeaker ID=Guest-2\n",
      "\n",
      "\n",
      "TRANSCRIBED:\n",
      "\tText=He has been properly.\n",
      "\tSpeaker ID=Guest-1\n",
      "\n",
      "\n",
      "TRANSCRIBED:\n",
      "\tText=Will you please let the please. You have no authority here, Jackie Weaver. No authority at all.\n",
      "\tSpeaker ID=Guest-2\n",
      "\n",
      "\n",
      "TRANSCRIBED:\n",
      "\tText=Don't don't just kicked him out.\n",
      "\tSpeaker ID=Guest-3\n",
      "\n",
      "\n",
      "TRANSCRIBED:\n",
      "\tText=This is a meeting called by two councillors.\n",
      "\tSpeaker ID=Guest-1\n",
      "\n",
      "\n",
      "TRANSCRIBED:\n",
      "\tText=Illegally, they now elect a chairman.\n",
      "\tSpeaker ID=Guest-1\n",
      "\n",
      "\n",
      "TRANSCRIBED:\n",
      "\tText=The carpet for the vice chair. Vice chairs. Here. I take charge, read the standing orders, read them and understand them.\n",
      "\tSpeaker ID=Guest-3\n",
      "\n",
      "\n",
      "TRANSCRIBED:\n",
      "\tText=Where's the chairman gone?\n",
      "\tSpeaker ID=Guest-2\n",
      "\n",
      "\n",
      "TRANSCRIBED:\n",
      "\tText=I'd like to elect a chairman for this meeting.\n",
      "\tSpeaker ID=Guest-1\n",
      "\n",
      "\n",
      "TRANSCRIBED:\n",
      "\tText=You don't have to elect a chairman. Does the chairman already installed the chairman of the council?\n",
      "\tSpeaker ID=Guest-4\n",
      "\n",
      "\n",
      "TRANSCRIBED:\n",
      "\tText=Councillor Berkel, we've been through this. What?\n",
      "\tSpeaker ID=Guest-1\n",
      "\n",
      "\n",
      "TRANSCRIBED:\n",
      "\tText=Are you talking about? You don't know what you're talking about.\n",
      "\tSpeaker ID=Unknown\n",
      "\n",
      "Canceled event\n",
      "CLOSING on ConversationTranscriptionCanceledEventArgs(session_id=9cb9c5f87b0443fa8d20269686a09bcd, result=ConversationTranscriptionResult(result_id=67dfb5b97c394b9ab2d6c0e70d76e196, speaker_id=, text=, reason=ResultReason.Canceled))\n",
      "SessionStopped event\n",
      "CLOSING on SessionEventArgs(session_id=9cb9c5f87b0443fa8d20269686a09bcd)\n"
     ]
    }
   ],
   "source": [
    "try:\n",
    "    result = recognize_from_file(r\"C:\\Users\\Beth\\Documents\\Bupa\\Real_Time_STT\\audio\\jackie_weaver.wav\", language=\"en-GB\")\n",
    "except Exception as err:\n",
    "    print(\"Encountered exception. {}\".format(err))"
   ]
  },
  {
   "cell_type": "code",
   "execution_count": 22,
   "id": "57b3c515",
   "metadata": {},
   "outputs": [
    {
     "name": "stdout",
     "output_type": "stream",
     "text": [
      "Guest-1: So, Chairman, will be it late, shall we get this meeting started? We'll.\n",
      "Guest-2: Start the meeting and I want to repeat what I said at the beginning of the last meeting. This meeting has not been called according to the law. The law has been broken.\n",
      "Guest-1: He has been properly.\n",
      "Guest-2: Will you please let the please. You have no authority here, Jackie Weaver. No authority at all.\n",
      "Guest-3: Don't don't just kicked him out.\n",
      "Guest-1: This is a meeting called by two councillors.\n",
      "Guest-1: Illegally, they now elect a chairman.\n",
      "Guest-3: The carpet for the vice chair. Vice chairs. Here. I take charge, read the standing orders, read them and understand them.\n",
      "Guest-2: Where's the chairman gone?\n",
      "Guest-1: I'd like to elect a chairman for this meeting.\n",
      "Guest-4: You don't have to elect a chairman. Does the chairman already installed the chairman of the council?\n",
      "Guest-1: Councillor Berkel, we've been through this. What?\n",
      "Unknown: Are you talking about? You don't know what you're talking about.\n"
     ]
    }
   ],
   "source": [
    "print(result)"
   ]
  },
  {
   "cell_type": "code",
   "execution_count": null,
   "id": "cfc75fdb",
   "metadata": {},
   "outputs": [],
   "source": []
  }
 ],
 "metadata": {
  "kernelspec": {
   "display_name": "flask_venv",
   "language": "python",
   "name": "python3"
  },
  "language_info": {
   "codemirror_mode": {
    "name": "ipython",
    "version": 3
   },
   "file_extension": ".py",
   "mimetype": "text/x-python",
   "name": "python",
   "nbconvert_exporter": "python",
   "pygments_lexer": "ipython3",
   "version": "3.13.5"
  }
 },
 "nbformat": 4,
 "nbformat_minor": 5
}
