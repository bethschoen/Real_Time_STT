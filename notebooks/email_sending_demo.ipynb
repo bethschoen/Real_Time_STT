{
 "cells": [
  {
   "cell_type": "code",
   "execution_count": 1,
   "id": "e1f5ef91",
   "metadata": {},
   "outputs": [],
   "source": [
    "import os\n",
    "from dotenv import load_dotenv\n",
    "load_dotenv()\n",
    "import smtplib\n",
    "import ssl\n",
    "from getpass import getpass"
   ]
  },
  {
   "cell_type": "code",
   "execution_count": 3,
   "id": "1fa25336",
   "metadata": {},
   "outputs": [
    {
     "data": {
      "text/plain": [
       "'Damn you thought this was my password, huh?'"
      ]
     },
     "execution_count": 3,
     "metadata": {},
     "output_type": "execute_result"
    }
   ],
   "source": [
    "# method for asking for password\n",
    "password = getpass()\n",
    "\n",
    "password"
   ]
  },
  {
   "cell_type": "code",
   "execution_count": null,
   "id": "e63c288b",
   "metadata": {},
   "outputs": [],
   "source": [
    "# Tutorial (app key): https://www.youtube.com/watch?v=QJobMzcmoMo&ab_channel=Hackr\n",
    "# Article (smtplib): https://realpython.com/python-send-email/#sending-a-plain-text-email\n",
    "sender_email = os.getenv(\"GMAIL_ADDRESS\")\n",
    "receiver_email = os.getenv(\"TEST_RECEIVER\")\n",
    "message = \"\"\"\\\n",
    "Subject: Test email, \n",
    "\n",
    "Hi Beth, \n",
    "\n",
    "I've sent this from within a Jupyter Notebook. I really hope this has worked. Lmk if not.\n",
    "\n",
    "Love, \n",
    "Beth <3 \"\"\"\n",
    "\n",
    "port = 465  # For SSL\n",
    "password = os.getenv(\"GMAIL_PASSWORD\")\n",
    "\n",
    "# Create a secure SSL context\n",
    "context = ssl.create_default_context()\n",
    "\n",
    "with smtplib.SMTP_SSL(\"smtp.gmail.com\", port, context=context) as server:\n",
    "    server.login(sender_email, password)\n",
    "    server.sendmail(sender_email, receiver_email, message)"
   ]
  }
 ],
 "metadata": {
  "kernelspec": {
   "display_name": "flask_venv",
   "language": "python",
   "name": "python3"
  },
  "language_info": {
   "codemirror_mode": {
    "name": "ipython",
    "version": 3
   },
   "file_extension": ".py",
   "mimetype": "text/x-python",
   "name": "python",
   "nbconvert_exporter": "python",
   "pygments_lexer": "ipython3",
   "version": "3.13.5"
  }
 },
 "nbformat": 4,
 "nbformat_minor": 5
}
